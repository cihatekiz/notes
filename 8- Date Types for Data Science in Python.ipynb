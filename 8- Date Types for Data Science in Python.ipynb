{
 "cells": [
  {
   "cell_type": "markdown",
   "metadata": {},
   "source": [
    "\n",
    "\n",
    "\n",
    "\n",
    "\n",
    "\n"
   ]
  },
  {
   "cell_type": "code",
   "execution_count": null,
   "metadata": {},
   "outputs": [],
   "source": []
  },
  {
   "cell_type": "code",
   "execution_count": null,
   "metadata": {},
   "outputs": [],
   "source": []
  },
  {
   "cell_type": "markdown",
   "metadata": {},
   "source": [
    ".striptime() method to convert from a string to a datetime object.\n",
    "from datetime import datetime\n",
    "date_dt=datetime.strptime(parking_violations_date,'%m/%d/%Y')\n",
    "-time format strings-\n",
    "\n",
    "~.isoformat() method to output  a datetime as an ISO standart string.\n",
    "~.strftime('%m/%d/%Y') method to convert from a datetime object to a string.\n",
    "\n",
    "daily_violations= default(int)\n",
    "for violation in parkin_violations:\n",
    "    violation_date=datetime.strptime(violation[4],'%m/%d/%Y')\n",
    "    daily_violations[violation_date.day]+=1\n",
    "print(sorted(daily_violations.items()))    \n",
    "\n",
    "~.now()       to return the current local datetime.\n",
    "\n",
    "~.utcnow()    to return the current UTC datetime.\n",
    "\n",
    "~.astimezone() to get time in another timezone.\n",
    "\n",
    "record_dt=datetime.strptime(sdadasdasdas)\n",
    "ny_tz=timezone('US/Eastern')\n",
    "ny_dt=record_dt.replace(tzinfo=ny_tz)\n",
    "la_dt=ny_dt.astimezone(la_tz)\n",
    "\n"
   ]
  },
  {
   "cell_type": "markdown",
   "metadata": {},
   "source": [
    "# Incrementing through time"
   ]
  },
  {
   "cell_type": "markdown",
   "metadata": {},
   "source": [
    "timedelta to represent an amount of change in time\n",
    "\n",
    "from datetime import timedelta\n",
    "flashback=timedelta(days=90)\n",
    " print(record_dt-flashback)\n",
    " \n",
    "~datetime differences = time_diff= record_dt- record2_dt\n",
    "type(time_diff)\n",
    ">>>datetime.timedelta\n",
    "\n",
    "~Parsing time with **pendulum**\n",
    "\n",
    " ~.parse() to convert a string to a pendulum datetime object without the need of the format string\n",
    " \n",
    " import pendulum\n",
    " occured= violation[4]+ ' ' + violation[5] + 'M'\n",
    " occured_dt=pendulum.parse(occured, tz=\"US/Eastern\")\n",
    " tokyo_dt= pendulum.now(\"Asia/Tokyo\")\n",
    " .in_timezone() to convert a pendulum time object to a desired timezone.\n",
    " .now()\n",
    " .in_XXX()  to provide the difference in a chosen metric.\n",
    " .in_words() to provide the difference in a nice expresive form.\n",
    " .in_hours()\n",
    " "
   ]
  },
  {
   "cell_type": "markdown",
   "metadata": {},
   "source": [
    "from collections import Counter"
   ]
  },
  {
   "cell_type": "markdown",
   "metadata": {},
   "source": [
    "import csv\n",
    "csvfile = open('crime_sampler.csv', 'r')\n",
    "crime_data.pop(0)"
   ]
  },
  {
   "cell_type": "markdown",
   "metadata": {},
   "source": [
    "xsd= sth.pop(\"another_thing\")"
   ]
  }
 ],
 "metadata": {
  "kernelspec": {
   "display_name": "Python 3",
   "language": "python",
   "name": "python3"
  },
  "language_info": {
   "codemirror_mode": {
    "name": "ipython",
    "version": 3
   },
   "file_extension": ".py",
   "mimetype": "text/x-python",
   "name": "python",
   "nbconvert_exporter": "python",
   "pygments_lexer": "ipython3",
   "version": "3.7.6"
  }
 },
 "nbformat": 4,
 "nbformat_minor": 4
}

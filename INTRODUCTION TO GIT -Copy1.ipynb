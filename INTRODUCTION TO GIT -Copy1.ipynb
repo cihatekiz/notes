{
 "cells": [
  {
   "cell_type": "markdown",
   "metadata": {},
   "source": [
    "# GIT"
   ]
  },
  {
   "cell_type": "markdown",
   "metadata": {},
   "source": [
    "*version control system tool* \n",
    "-Nothing that is saved to Git is ever lost\n",
    "-Synchronizes work done by different people on different machines, so it scales as your team does.\n"
   ]
  },
  {
   "cell_type": "markdown",
   "metadata": {},
   "source": [
    "~Each of your Git projects has two parts: the files and directories that you create and edit directly, and the extra information that Git records about the project's history. The combination of these two things is called a repository.\n",
    "~ stores all of its extra information in a directory called .git\n",
    "~ git status --> to check the status of your repository.\n",
    "~ **staging area** in which it stores files with changes you want to save that haven't been saved yet.\n",
    "~ In order to compare the file as it currently is to what you last saved, you can use git diff filename"
   ]
  },
  {
   "cell_type": "markdown",
   "metadata": {},
   "source": [
    "~A line starting with @@ that tells where the changes are being made. The pairs of numbers are start line and number of lines\n",
    "~A line-by-line listing of the changes with - showing deletions and + showing additions\n",
    "~To add a file to the staging area, use **git add filename**g\n",
    "~git diff -r HEAD data/northern.csv to view changes in the file that has been staged(and only that file)\n",
    "~"
   ]
  },
  {
   "cell_type": "markdown",
   "metadata": {},
   "source": [
    "**nano filename** to open filename\n",
    "Ctrl-K: delete a line.\n",
    "Ctrl-U: un-delete a line.\n",
    "Ctrl-O: save the file ('O' stands for 'output').\n",
    "Ctrl-X: exit the editor.\n",
    "\n",
    "~ git commit to save the changes\n",
    "**git commit** -m \"Program appears to have become self-aware.\"\n",
    "~you can change it using the --amend flag.\n",
    "**git commit --amend - m \"new message\"** git\n",
    "Use **git log** command to view the repository's history\n",
    "~ **git log path** to inspect only changes to particular files or directories.\n",
    "\n"
   ]
  },
  {
   "cell_type": "markdown",
   "metadata": {},
   "source": [
    "# How does Git store information?"
   ]
  },
  {
   "cell_type": "markdown",
   "metadata": {},
   "source": [
    "commit --> tree --> blob\n",
    "~very commit to a repository has a unique identifier called a **hash** \n",
    " -Hashes are what enable Git to share data efficiently between repositoriy"
   ]
  },
  {
   "cell_type": "markdown",
   "metadata": {},
   "source": [
    "# How can I view a specific commit?"
   ]
  },
  {
   "cell_type": "markdown",
   "metadata": {},
   "source": [
    "~ **git show** to view the details of a specific commit.\n",
    "~The special label **HEAD**, which we saw in the previous chapter, always refers to the most recent commit. The label **HEAD~1** then refers to the commit before it, while **HEAD~2** refers to the commit before that, and so on."
   ]
  },
  {
   "cell_type": "markdown",
   "metadata": {},
   "source": [
    "# How can I see who changed what in a file?"
   ]
  },
  {
   "cell_type": "markdown",
   "metadata": {},
   "source": [
    " ~**git annotate file**  to show who made the last change to each line of a file and when; \n",
    " each line contains 5 elements.\n",
    "    1-The first eight digits of the hash, 04307054.\n",
    "    2-The author, Rep Loop.\n",
    "    3-The time of the commit, 2017-09-20 13:42:26 +0000.\n",
    "    4-The line number, 1.\n",
    "    5-The contents of the line, # Seasonal Dental Surgeries (2017) 2017-18\n",
    " ~**git diff ID1..ID2** to show the changes made in a particular commit."
   ]
  },
  {
   "cell_type": "markdown",
   "metadata": {},
   "source": [
    "# How do I add new files?"
   ]
  },
  {
   "cell_type": "markdown",
   "metadata": {},
   "source": [
    "~**git add** to add files"
   ]
  },
  {
   "cell_type": "markdown",
   "metadata": {},
   "source": [
    "# How do I tell Git to ignore certain files?"
   ]
  },
  {
   "cell_type": "markdown",
   "metadata": {},
   "source": [
    "~ **.gitignore**\n",
    "    e.g. build *.mpl --> Git will ignore any file or directory called build (and, if it's a directory, anything in it), as well as any file whose name ends in .mpl.\n"
   ]
  },
  {
   "cell_type": "markdown",
   "metadata": {},
   "source": [
    "# How can I remove unwanted files?"
   ]
  },
  {
   "cell_type": "markdown",
   "metadata": {},
   "source": [
    " ~**git clean -n** to show  a list of files that are in the repository, but whose history Git is not currently tracking. \n",
    " ~**git clean -f** to delete those files.\n",
    " "
   ]
  },
  {
   "cell_type": "markdown",
   "metadata": {},
   "source": [
    "# How can I see how Git is configured?"
   ]
  },
  {
   "cell_type": "markdown",
   "metadata": {},
   "source": [
    "~**git config --list ** to see what the settings are --list with one of three additional options:\n",
    "\n",
    "-**-system** : settings for every user on this computer.\n",
    "-**-global** : settings for every one of your projects.\n",
    "-**-local**  : settings for one specific project.\n",
    "\n",
    "-How can I change my Git configuration?-\n",
    "--There are two you should set on every computer you use: your name and your email address. These are recorded in the log every time you commit a change, and are often used to identify the authors of a project's content in order to give credit (or assign blame, depending on the circumstances).\n",
    " --**git config --global setting value** to he settings that identify your name and email address are user.name and user.email, respectively. \n"
   ]
  },
  {
   "cell_type": "markdown",
   "metadata": {},
   "source": [
    "# How can I commit changes selectively?"
   ]
  },
  {
   "cell_type": "markdown",
   "metadata": {},
   "source": [
    "The syntax for staging a single file is **git add path/to/file.**\n",
    "If you make a mistake and accidentally stage a file you shouldn't have, you can unstage the additions with **git reset HEAD** and try again."
   ]
  },
  {
   "cell_type": "markdown",
   "metadata": {},
   "source": [
    "# How can I undo changes to unstaged files?"
   ]
  },
  {
   "cell_type": "markdown",
   "metadata": {},
   "source": [
    "**git checkout -- filename** to discard changes that have not yet been staged."
   ]
  },
  {
   "cell_type": "markdown",
   "metadata": {},
   "source": [
    "# How can I undo changes to staged files?"
   ]
  },
  {
   "cell_type": "markdown",
   "metadata": {},
   "source": [
    "**git reset HEAD path/to/file git checkout -- path/to/file**  to undo changes to a file that you staged changes to."
   ]
  },
  {
   "cell_type": "markdown",
   "metadata": {},
   "source": [
    "# How do I restore an old version of a file?"
   ]
  },
  {
   "cell_type": "markdown",
   "metadata": {},
   "source": [
    "~Restoring a file doesn't erase any of the repository's history. Instead, the act of restoring the file is saved as another commit, because you might later want to undo your undoing.\n",
    "~Passing \"-\" followed by a number restricts the output to that many commits. For example, **git log -3 report.txt** to show the last three commits involving report.txt.\n",
    "\n",
    "**git checkout 2242bd report.txt**"
   ]
  },
  {
   "cell_type": "markdown",
   "metadata": {},
   "source": [
    "# How can I undo all of the changes I have made?"
   ]
  },
  {
   "cell_type": "markdown",
   "metadata": {},
   "source": [
    "**git reset** to unstage everything\n",
    "**git checkout -- .** to revert all files in the current directory.\n"
   ]
  },
  {
   "cell_type": "markdown",
   "metadata": {},
   "source": [
    "# What is a branch?"
   ]
  },
  {
   "cell_type": "markdown",
   "metadata": {},
   "source": [
    "-creating **branches**, which allows you to have multiple versions of your work, and lets you track each version systematically.\n",
    "~**git branch** to see the branch you are currently in."
   ]
  },
  {
   "cell_type": "markdown",
   "metadata": {},
   "source": [
    "# How can I view the differences between branches?"
   ]
  },
  {
   "cell_type": "markdown",
   "metadata": {},
   "source": [
    "**git diff branch-1..branch-2** to show the difference between two branches.\n"
   ]
  },
  {
   "cell_type": "markdown",
   "metadata": {},
   "source": [
    "# How can I switch from one branch to another?"
   ]
  },
  {
   "cell_type": "markdown",
   "metadata": {},
   "source": [
    "**git checkout branchname**\n"
   ]
  },
  {
   "cell_type": "markdown",
   "metadata": {},
   "source": [
    "# How can I create a branch?"
   ]
  },
  {
   "cell_type": "markdown",
   "metadata": {},
   "source": [
    "**git branch** to create a branch\n",
    "**git checkout -b branch-name** to create a branch then switch to it in one step.\n"
   ]
  },
  {
   "cell_type": "markdown",
   "metadata": {},
   "source": [
    "# How can I merge two branches?"
   ]
  },
  {
   "cell_type": "markdown",
   "metadata": {},
   "source": [
    "**git merge source destination**"
   ]
  },
  {
   "cell_type": "markdown",
   "metadata": {},
   "source": [
    "# What are conflicts?"
   ]
  },
  {
   "cell_type": "markdown",
   "metadata": {},
   "source": [
    "git diff master..update"
   ]
  },
  {
   "cell_type": "markdown",
   "metadata": {},
   "source": [
    "# How can I create a brand new repository?"
   ]
  },
  {
   "cell_type": "markdown",
   "metadata": {},
   "source": [
    "**git init project-name** to create a new repository\n"
   ]
  },
  {
   "cell_type": "markdown",
   "metadata": {},
   "source": [
    "# How can I turn an existing project into a Git repository?"
   ]
  },
  {
   "cell_type": "markdown",
   "metadata": {},
   "source": [
    "**git init ** or\n",
    "**git init /path/to/project**\n",
    "\n",
    "**git clone URL(https://github.com/datacamp/project.git)** to clone/copy an existing repository.\n",
    "or\n",
    "**git clone /existing/project newprojectname**"
   ]
  },
  {
   "cell_type": "markdown",
   "metadata": {},
   "source": [
    "# How can I find out where a cloned repository originated?"
   ]
  },
  {
   "cell_type": "markdown",
   "metadata": {},
   "source": [
    "~When you a clone a repository, Git remembers where the original repository was. It does this by storing a remote in the new repository's configuration. A remote is like a browser bookmark with a name and a URL.\n",
    "~**git remote** or **git remove -v**\n"
   ]
  },
  {
   "cell_type": "markdown",
   "metadata": {},
   "source": [
    "# How can I define remotes?"
   ]
  },
  {
   "cell_type": "markdown",
   "metadata": {},
   "source": [
    "**git remote add remote-name URL** to add more remotes.\n",
    "**git remote rm remote-name** to remove existing ones.\n"
   ]
  },
  {
   "cell_type": "markdown",
   "metadata": {},
   "source": [
    "# How can I pull in changes from a remote repository?"
   ]
  },
  {
   "cell_type": "markdown",
   "metadata": {},
   "source": [
    "**git pull remote branch** to pull changes.gets everything in branch in the remote repository      identified by remote and merges it into the current branch of your local repository."
   ]
  },
  {
   "cell_type": "markdown",
   "metadata": {},
   "source": [
    "# What happens if I try to pull when I have unsaved changes?"
   ]
  },
  {
   "cell_type": "markdown",
   "metadata": {},
   "source": [
    "~The fix is simple: either commit your local changes or revert them, and then try to pull again."
   ]
  },
  {
   "cell_type": "markdown",
   "metadata": {},
   "source": [
    "# How can I push my changes to a remote repository?"
   ]
  },
  {
   "cell_type": "markdown",
   "metadata": {},
   "source": [
    "**git push remote-name branch-name** -->which pushes the contents of your branch branch-name into a branch with the same name in the remote repository associated with remote-name.\n"
   ]
  },
  {
   "cell_type": "markdown",
   "metadata": {},
   "source": [
    "# What happens if my push conflicts with someone else's work?"
   ]
  },
  {
   "cell_type": "markdown",
   "metadata": {},
   "source": [
    "~To prevent this happening, Git does not allow you to push changes to a remote repository unless you have merged the contents of the remote repository into your own work.\n"
   ]
  },
  {
   "cell_type": "markdown",
   "metadata": {},
   "source": [
    "# GIT"
   ]
  },
  {
   "cell_type": "markdown",
   "metadata": {},
   "source": [
    "pwd\n",
    "ls --> dizinleri listeler\n",
    "cd -->change directory\n",
    "cd Desktop\n",
    "cd .. --> bir onceki dizine ulasmak icin\n",
    "clear or ctrl+l\n",
    "git init\n",
    "ls -a\n",
    " "
   ]
  }
 ],
 "metadata": {
  "kernelspec": {
   "display_name": "Python 3",
   "language": "python",
   "name": "python3"
  },
  "language_info": {
   "codemirror_mode": {
    "name": "ipython",
    "version": 3
   },
   "file_extension": ".py",
   "mimetype": "text/x-python",
   "name": "python",
   "nbconvert_exporter": "python",
   "pygments_lexer": "ipython3",
   "version": "3.7.6"
  }
 },
 "nbformat": 4,
 "nbformat_minor": 4
}

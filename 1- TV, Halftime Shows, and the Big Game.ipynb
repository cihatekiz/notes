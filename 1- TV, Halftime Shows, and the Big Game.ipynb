{
 "cells": [
  {
   "cell_type": "markdown",
   "metadata": {},
   "source": [
    "# TV, Halftime Shows, and the Big Game"
   ]
  },
  {
   "cell_type": "markdown",
   "metadata": {},
   "source": [
    "What are the most extreme game outcomes?\n",
    "How does the game affect television viewership?\n",
    "How have viewership, TV ratings, and ad cost evolved over time?\n",
    "Who are the most prolific musicians in terms of halftime show performances?\n",
    "This project gives you an opportunity to apply the skills from Intermediate Python for Data Science.\n",
    "\n",
    "The dataset used in this project was scraped and polished from Wikipedia. It is made up of three CSV files, one with game data, one with TV data, and one with halftime musician data for all 52 Super Bowls through 2018."
   ]
  },
  {
   "cell_type": "markdown",
   "metadata": {},
   "source": [
    "## Project Tasks"
   ]
  },
  {
   "cell_type": "markdown",
   "metadata": {},
   "source": [
    "1- TV, halftime shows, and the Big Game\n",
    "2- Taking note of dataset issues\n",
    "3- Combined points distribution\n",
    "4- Point difference distribution\n",
    "5- Do blowouts translate to lost viewers?\n",
    "6- Viewership and the ad industry over time\n",
    "7- Halftime shows weren't always this great\n",
    "8- Who has the most halftime show appearances?\n",
    "9- Who performed the most songs in a halftime show?\n",
    "10-Conclusion"
   ]
  },
  {
   "cell_type": "code",
   "execution_count": null,
   "metadata": {},
   "outputs": [],
   "source": []
  }
 ],
 "metadata": {
  "kernelspec": {
   "display_name": "Python 3",
   "language": "python",
   "name": "python3"
  },
  "language_info": {
   "codemirror_mode": {
    "name": "ipython",
    "version": 3
   },
   "file_extension": ".py",
   "mimetype": "text/x-python",
   "name": "python",
   "nbconvert_exporter": "python",
   "pygments_lexer": "ipython3",
   "version": "3.7.6"
  }
 },
 "nbformat": 4,
 "nbformat_minor": 4
}

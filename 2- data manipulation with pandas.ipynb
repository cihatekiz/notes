{
 "cells": [
  {
   "cell_type": "markdown",
   "metadata": {},
   "source": [
    " def pct40(column):   \n",
    "    return column.quantile(0.4)"
   ]
  },
  {
   "cell_type": "markdown",
   "metadata": {},
   "source": [
    "def pct30(column):\n",
    "    return column.quantile(0.3)"
   ]
  },
  {
   "cell_type": "markdown",
   "metadata": {},
   "source": [
    "#dogs[\"column_name\"].agg([pct30,pct40])\n",
    "#.cumsum()= returns not just a number for each row of the DataFrame\n"
   ]
  },
  {
   "cell_type": "markdown",
   "metadata": {},
   "source": [
    "import numpy as np\n",
    "def iqr(column):\n",
    "    return column.quantile(0.75) - column.quantile(0.25)\n",
    "}\n",
    "print(sales[[\"temperature_c\", \"fuel_price_usd_per_l\", \"unemployment\"]].agg([iqr, np.median]))"
   ]
  },
  {
   "cell_type": "markdown",
   "metadata": {},
   "source": [
    "#df.drop_duplicates(subset=\"column_name\")\n",
    "#unique_dogs = df.drop_duplicates(subset=[\"column_name1\",\"column_name2\"])\n",
    "#df.groupby(\"color\")[\"weight_kg\"].mean()\n",
    "#df.groupby(\"color\")[\"weight_kg\"].agg([min,max,sum])\n",
    "#df.groupby([]\"color\",\"color2\"])[\"weight_kg\"].mean()#\n",
    "#df.groupby([]\"color\",\"color2\"])[[\"weight_kg\",\"height_cm\"]].mean()"
   ]
  },
  {
   "cell_type": "markdown",
   "metadata": {},
   "source": [
    "#df.pivot_table(values=\"column1\",index=\"color\")-->takes the mean value for each group\n",
    "#dogs.pivot_table(values=\"weight_kg\", index=\"color\", aggfunc=[np.mean, np.median])\n",
    "#dogs.pivot_table(values=\"weight_kg\", index=\"color\", columns=\"breed\",fill_value=0,margins=True)\n",
    "#"
   ]
  },
  {
   "cell_type": "markdown",
   "metadata": {},
   "source": [
    "df.columns\n",
    "df.index\n",
    "df.set_index(\"col_name\") -->to make the column the index\n",
    "df.reset_index()-->to reset the index\n",
    "df[df[\"col_name\"].isin([\"bella\",\"stella\"])]==> df.loc[[\"bella\",\"stella\"]]\n",
    "df.set_index([\"col_name1\",\"col_name2\"]) \n",
    "df.sort_index()\n"
   ]
  },
  {
   "cell_type": "markdown",
   "metadata": {},
   "source": [
    "temperatures_srt = temperatures_ind.sort_index()\n",
    "\n",
    "# Subset rows from Pakistan to Russia\n",
    "print(temperatures_srt.loc[\"Pakistan\":\"Russia\"])\n",
    "\n",
    "# Try to subset rows from Lahore to Moscow\n",
    "print(temperatures_srt.loc[\"Lahore\":\"Moscow\"])\n",
    "\n",
    "# Subset rows from Pakistan, Lahore to Russia, Moscow\n",
    "print(temperatures_srt.loc[(\"Pakistan\",\"Lahore\"):(\"Russia\",\"Moscow\")])"
   ]
  },
  {
   "cell_type": "markdown",
   "metadata": {},
   "source": [
    "print(temperatures_srt.loc[(\"India\", \"Hyderabad\"):(\"Iraq\", \"Baghdad\"), \"date\":\"avg_temp_c\"])"
   ]
  },
  {
   "cell_type": "markdown",
   "metadata": {},
   "source": [
    "df['col'].hist(bins=20)\n",
    "plt.show()\n",
    "bar plots can reveal a relationship between a categorical var and numerical var.\n",
    "==>df.groupny(\"col\")[\"col2\"].mean()\n",
    "df.plot(kind=\"bar\",title=\"saddada)\n",
    "df.plot(x=\"col1\",y=\"col2\",kind=\"line\",rot=45,alpha=0.7)\n",
    "#scatter is great for visualizing relationship between two numeric values.\n"
   ]
  },
  {
   "cell_type": "markdown",
   "metadata": {},
   "source": [
    "NaN= not a number\n",
    "df.isna().any()/sum() ==>\n",
    "df.isna().any()/sum().plot(kind=\"bar\")\n",
    "df.dropna()--> to remove the rows in DataFrame that contain missing values\n",
    "df.fillna(0)--> to replace missing values with anaother value\n"
   ]
  },
  {
   "cell_type": "markdown",
   "metadata": {},
   "source": [
    "1- list of dictionaries --> we can pass it into pd.dataframe and convert it into DataFrame format\n",
    "2- dictionariy of lists --> key=col_name, value= list of col_values"
   ]
  },
  {
   "cell_type": "markdown",
   "metadata": {},
   "source": [
    "CSV= comma-seperated-values\n",
    "designed for DataFrame-like data\n",
    "df= pd.read_csv(\"df.csv\")\n",
    "#updating ==> df.to_csv(\"new_df.csv\")\n",
    "airline_totals_sorted = airline_totals.sort_values(\"bumps_per_10k\", ascending=False)\n"
   ]
  }
 ],
 "metadata": {
  "kernelspec": {
   "display_name": "Python 3",
   "language": "python",
   "name": "python3"
  },
  "language_info": {
   "codemirror_mode": {
    "name": "ipython",
    "version": 3
   },
   "file_extension": ".py",
   "mimetype": "text/x-python",
   "name": "python",
   "nbconvert_exporter": "python",
   "pygments_lexer": "ipython3",
   "version": "3.7.6"
  }
 },
 "nbformat": 4,
 "nbformat_minor": 4
}

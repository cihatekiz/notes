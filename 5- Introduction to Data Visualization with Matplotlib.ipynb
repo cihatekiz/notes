{
 "cells": [
  {
   "cell_type": "markdown",
   "metadata": {},
   "source": [
    " data visualization let you communicate about the data with others\n",
    " it gives you complete control over the properties of your plot\n",
    "you will not only know how to control your visualizations but also how to create programs that automatically create visualization based on your data."
   ]
  },
  {
   "cell_type": "markdown",
   "metadata": {},
   "source": [
    "# the main object-oriented interface : pyplot submodule"
   ]
  },
  {
   "cell_type": "markdown",
   "metadata": {},
   "source": [
    "fig,ax = plt.subplots()    --> figure object is a container that hold everything seen on the page\n",
    "ax.plot(df[\"col1\"],df[\"col2\"])\n",
    "ax.plot(df[\"col1\"],df1[\"col3\"])\n",
    "plt.show()\n"
   ]
  },
  {
   "cell_type": "markdown",
   "metadata": {},
   "source": [
    "~customizing your plots~\n",
    "\n",
    "ax.plot(df[\"col1\"],df1[\"col3\"],marker=\"o\",linestyles=\"--\",color=\"r\")\n",
    "ax.set_xlabel(\"Time(months)\")\n",
    "ax.set_ylabel(\"Temperature\")\n",
    "ax.set_title(\"title\")"
   ]
  },
  {
   "cell_type": "markdown",
   "metadata": {},
   "source": [
    "~small multiples~\n",
    "\n",
    "fig,ax = plt.subplots(3,2,sharey=True) \n",
    "ax.shape ==> ax is an array of Axes objects with a shape of 3 by 2.\n",
    "ax[0,0].plot(df[\"col1\"],df1[\"col3\"],marker=\"o\",linestyles=\"--\",color=\"r\")\n",
    "\n"
   ]
  },
  {
   "cell_type": "markdown",
   "metadata": {},
   "source": [
    "~ plotting time-series data\n",
    "\n",
    "~DataTimeIndex\n",
    "climate_change = pd.read_csv('climate_change.csv', parse_dates=['date'], index_col=\"date\")\n",
    "\n",
    "\n",
    "~plotting time-series with different variables\n",
    "~using twin axes\n",
    "\n",
    " ax2= ax.twinx() --> this means the 2 axes share the same x-axis but y-axes are seperate\n",
    " ax2.plot(df[\"col1\"],df[\"col2\"])\n",
    " ax.tick_params('y',colors='blue')\n",
    " \n",
    "~ a function that plots time-series ~\n",
    "def plot_timeseries(axes, x, y, color, xlabel, ylabel):\n",
    "    axes.plot(x, y, color=color)\n",
    "    axes.set_xlabel(xlabel)\n",
    "    axes.set_ylabel(ylabel, color=color)\n",
    "    axes.tick_params('y', colors=color)\n"
   ]
  },
  {
   "cell_type": "markdown",
   "metadata": {},
   "source": [
    "~Annotating time-series data~\n",
    "\n",
    "ax2.annotate(\">1 degree\", xy=[pd.Timestamp(\"2015-10-06\"),1])\n",
    "~positioning the text~\n",
    "ax2.annotate(\">1 degree\", xy=(pd.Timestamp('2015-10-06'),1),xytext=(pd.Timestamp('2008-10-06'),-0.2))\n",
    "~adding arrows to annotation\n",
    "ax2.annotate(\">1 degree\", xy=(pd.Timestamp('2015-10-06'),1),xytext=(pd.Timestamp('2008-10-06'),-0.2),arrowprops={\"arrowstyle\":\"->\",color=\"gray\"})"
   ]
  },
  {
   "cell_type": "markdown",
   "metadata": {},
   "source": [
    "# Quantitative comparisons and statistical visualizations"
   ]
  },
  {
   "cell_type": "markdown",
   "metadata": {},
   "source": [
    "~ bar charts ~\n",
    "medals= pd.read_csv('ssth.csv',index_col=0)\n",
    "fig,ax=plt.subplots()\n",
    "ax.bar(medals.index,medals[\"Gold\"])\n",
    "ax.set_xticklabels(medals.index,rotation=90)\n",
    "ax.set_ylabel(\"Number of medals\")\n",
    "plt.show()\n",
    "\n",
    "ax.bar(medals.index,medals[\"Silver\"], bottom=medals[\"Gold\"])\n",
    "ax.bar(medals.index,medals[\"Bronze\"], bottom=medals[\"Gold\"]+medals[\"Silver\"])\n",
    "label=\"Gold\"\n",
    "ax.legend() --> to show what represents\n",
    "\n",
    "fig,ax= plt.subplots()\n",
    "ax.bar(\"Rowing\", mens_rowing[\"Height\"].mean())\n",
    "ax.bar(\"Gymnastics\", mens_gymnastics[\"Height\"].mean())\n",
    "ax.set_ylabel(\"Height (cm)\")\n",
    "\n",
    "~histograms~\n",
    "\n",
    "  - labels are really needed in histograms.\n",
    "\n",
    "ax.hist(df[\"col1\"],label=\"sth\", bins=5/ bins=[list of integers],histtype=\"step\"-->thin lines)\n",
    "\n",
    "\n",
    "~statistical plotting~\n",
    "\n",
    "1-adding error bars to bar charts:\n",
    "    \n",
    "ax.bar(\"Rowing\",mens_rowing[\"Height\"].mean(),yerr=mens_rowing[\"Height\"].std())\n",
    "\n",
    "2- adding boxplots:\n",
    "\n",
    "ax.boxplot([mens_rowing[\"Height\"],mens_gymnastics[\"Height\"]])\n",
    "\n",
    "-interpreting boxplots:\n",
    "\n",
    "\n",
    "~SCATTER PLOTS~\n",
    "\n",
    "- bi-variate comparisons-\n",
    "eighties = climate_change[\"1980-01-01\":\"1989-12-31\"]\n",
    "nineties = climate_change[\"1990-01-01\":\"1999-12-31\"]\n",
    "fig, ax = plt.subplots()\n",
    "ax.scatter(eighties[\"co2\"], eighties[\"relative_temp\"],color=\"red\",label=\"eighties\")\n",
    "ax.scatter(nineties[\"co2\"], nineties[\"relative_temp\"],color=\"blue\",label=\"nineties\")\n",
    "ax.legend()\n",
    "ax.set_xlabel(\"CO2 (ppm)\")\n",
    "ax.set_ylabel(\"Relative temperature (Celsius)\")\n",
    "plt.show()\n",
    "\n",
    "~sharing your figures~\n",
    "\n",
    "\n",
    "\n",
    "\n"
   ]
  },
  {
   "cell_type": "markdown",
   "metadata": {},
   "source": [
    "# ~sharing your figures~"
   ]
  },
  {
   "cell_type": "markdown",
   "metadata": {},
   "source": [
    "plt.style.use(\"ggplot\")\n",
    "plt.style.use(\"default\")\n",
    "plt.style.use(\"bmh\")\n",
    "...\n",
    "...\n",
    "\n",
    "~ color-blind friendly ==> \"seaborn=colorblind\" , \"tableau-colorblind10\" (1 out of 20 is color-blind) \n",
    "\n",
    "~ for black and white ==> \"grayscale\"\n",
    "\n",
    "#saving your visualization#\n",
    "\n",
    "-fig.savefig(\"file.png\")\n",
    "-fig.savefig(\"file.jpg\",quality= 1-100,dpi=300--> )\n",
    "- fig.savefig(\"file.svg\") --> to create a vector graphics file\n",
    "- size : fig.set_size_inches([5,3])\n",
    "\n",
    "~AUTOMATING FIGURES FROM DATA~\n",
    "\n",
    "fig, ax = plt.subplots()\n",
    "for sport in sports:\n",
    "    sport_df = summer_2016_medals[summer_2016_medals[\"Sport\"] == sportax.bar(sport, sport_df[\"Height\"].mean(),yerr=sport_df[\"Height\"].std())\n",
    "    \n",
    "ax.set_ylabel(\"Height (cm)\")\n",
    "ax.set_xticklabels(sports, rotation=90)\n",
    "plt.show()\n"
   ]
  },
  {
   "cell_type": "markdown",
   "metadata": {},
   "source": [
    "# USEFUL LINKS"
   ]
  },
  {
   "cell_type": "markdown",
   "metadata": {},
   "source": [
    "\n",
    "\n",
    "\n",
    "\n",
    "\n",
    "\n"
   ]
  },
  {
   "cell_type": "markdown",
   "metadata": {},
   "source": [
    "num_cols = ['RT_user_norm', 'Metacritic_user_nom', 'IMDB_norm', 'Fandango_Ratingvalue', 'Fandango_Stars']\n",
    "ax.boxplot(norm_reviews[num_cols].values)\n",
    "\n",
    "num_cols = ['RT_user_norm', 'Metacritic_user_nom', 'IMDB_norm', 'Fandango_Ratingvalue']\n",
    "fig,ax=plt.subplots()\n",
    "ax.boxplot(norm_reviews[num_cols].values)\n",
    "ax.set_xticklabels(num_cols,rotation=90)\n",
    "ax.set_ylim(0,5)\n",
    "plt.show()"
   ]
  },
  {
   "cell_type": "code",
   "execution_count": null,
   "metadata": {},
   "outputs": [],
   "source": []
  },
  {
   "cell_type": "code",
   "execution_count": null,
   "metadata": {},
   "outputs": [],
   "source": []
  },
  {
   "cell_type": "code",
   "execution_count": null,
   "metadata": {},
   "outputs": [],
   "source": []
  },
  {
   "cell_type": "code",
   "execution_count": null,
   "metadata": {},
   "outputs": [],
   "source": []
  },
  {
   "cell_type": "code",
   "execution_count": null,
   "metadata": {},
   "outputs": [],
   "source": []
  }
 ],
 "metadata": {
  "kernelspec": {
   "display_name": "Python 3",
   "language": "python",
   "name": "python3"
  },
  "language_info": {
   "codemirror_mode": {
    "name": "ipython",
    "version": 3
   },
   "file_extension": ".py",
   "mimetype": "text/x-python",
   "name": "python",
   "nbconvert_exporter": "python",
   "pygments_lexer": "ipython3",
   "version": "3.7.6"
  }
 },
 "nbformat": 4,
 "nbformat_minor": 4
}

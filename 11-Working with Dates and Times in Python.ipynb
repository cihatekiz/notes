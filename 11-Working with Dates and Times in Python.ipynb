{
 "cells": [
  {
   "cell_type": "markdown",
   "metadata": {},
   "source": [
    "# Working with Dates and Times in Python"
   ]
  },
  {
   "cell_type": "markdown",
   "metadata": {},
   "source": [
    "## DATES AND CALENDARS "
   ]
  },
  {
   "cell_type": "markdown",
   "metadata": {},
   "source": [
    "from datetime import date\n",
    "\n",
    "dates=[date(2016,10,7),date(2017,6,21)]\n",
    "\n",
    "dates[0].weekday()----> 4= Friday\n",
    "f\n",
    "\n",
    "from **datetime** import **timedelta**\n",
    "\n",
    "#creating a 29 day timedelta:\n",
    "td=timedelta(days=29)\n",
    "print(d1+td)\n",
    "\n",
    "~ ISO/ISO 8601 format YYYY-MM-DD\n",
    "\n",
    "[d.isoformat()] --> ['2017-11-05']\n",
    "\n",
    "~ d.strftime('YEAR IS %Y')///d.strftime(\"%Y/%m/%d %H:%M:%S\")\n",
    "   **%Y **:  is the 4-digit year and \n",
    "   **%j**:  **is the 3-digit day of the year.**\n",
    "\n",
    "\n",
    "\n",
    "\n",
    "\n",
    "\n"
   ]
  },
  {
   "cell_type": "markdown",
   "metadata": {},
   "source": [
    "## COMBINING DATES and TIMES "
   ]
  },
  {
   "cell_type": "markdown",
   "metadata": {},
   "source": [
    "from **datetime** import **datetime**\n",
    "\n",
    "dt=datetime(yyyy,m,d,h,min,sec) /// dt= datetime(year=2017, month=10, day=1, hour=15,minute=23, second= 25, microsecond=500000)\n",
    "\n",
    "dt.replace(minute=0,second=0)\n",
    "\n",
    "~ #to convert to datetime and print\n",
    "  ts=1514665153.0\n",
    "  datetime.fromtimestamp(ts)\n",
    "  \n",
    "  \n",
    "  \n",
    "start = datetime(2017, 10, 8, 23, 46, 47)\n",
    "end = datetime(2017, 10, 9, 0, 10, 57)\n",
    "duration = end - start\n",
    "duration.**total_seconds()**\n",
    "delta2 = **timedelta(days=1, seconds=1)**\n",
    "delta3 = **timedelta(weeks=-1)** (NEGATIVE)\n",
    "\n",
    "\n",
    "\n",
    "\n",
    "\n"
   ]
  },
  {
   "cell_type": "markdown",
   "metadata": {},
   "source": [
    "## UTC OFFSETS"
   ]
  },
  {
   "cell_type": "markdown",
   "metadata": {},
   "source": [
    "from datetime import **datetime, timedelta, timezone**\n",
    "\n",
    "~ET = timezone(timedelta(hours=-5))\n",
    "~dt = datetime(2017, 12, 30, 15, 9, 3, **tzinfo = ET**)\n",
    "~dt.astimezone(IST)\n",
    "~dt.astimezone(timezone.utc))\n",
    "~dt.replace(tzinfo=timezone.utc)\n",
    "**from dateutil import tz**\n",
    "et = tz.gettz('America/New_York')\n",
    "\n",
    "tz.datetime_ambiguous(first_1am) --->TRUE/FALSE\n",
    "tz.enfold(second_1am)\n"
   ]
  },
  {
   "cell_type": "markdown",
   "metadata": {},
   "source": [
    "## Reading date and time data in Pandas"
   ]
  },
  {
   "cell_type": "markdown",
   "metadata": {},
   "source": [
    "rides = pd.read_csv('capital-onebike.csv',                    parse_dates = ['Start date', 'End date'])\n",
    "rides['Start date'] = pd.to_datetime(rides['Start date'],                                      format = \"%Y-%m-%d %H:%M:%S\")\n",
    "\n",
    "~Average duration by month\n",
    "rides.resample('M', on = 'Start date')['Duration seconds'].mean()\n",
    "\n",
    "~rides['Start date'].head(3)\\  .**dt.tz_localize**('America/New_York')\n",
    "\n",
    "~ Handle ambiguous datetimes\n",
    "rides['Start date'] = rides['Start date']\\  .dt.tz_localize('America/New_York', ambiguous='NaT')\n",
    "\n",
    "~See weekdays for first three rides\n",
    "rides['Start date']\\  .head(3)\\  **.dt.weekday_name**\n"
   ]
  }
 ],
 "metadata": {
  "kernelspec": {
   "display_name": "Python 3",
   "language": "python",
   "name": "python3"
  },
  "language_info": {
   "codemirror_mode": {
    "name": "ipython",
    "version": 3
   },
   "file_extension": ".py",
   "mimetype": "text/x-python",
   "name": "python",
   "nbconvert_exporter": "python",
   "pygments_lexer": "ipython3",
   "version": "3.7.6"
  }
 },
 "nbformat": 4,
 "nbformat_minor": 4
}

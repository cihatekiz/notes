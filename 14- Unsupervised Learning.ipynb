{
 "cells": [
  {
   "cell_type": "markdown",
   "metadata": {},
   "source": [
    "# Unsupervised Machine Learning Technique"
   ]
  },
  {
   "cell_type": "markdown",
   "metadata": {},
   "source": [
    "~ is a class of machine learning technique for discovering patterns in data, without a specific prediction task in mind.\n",
    " e.g.clustering customers by their purchases.\n",
    " columns are the features=dimensions\n",
    " rows are the samples."
   ]
  },
  {
   "cell_type": "markdown",
   "metadata": {},
   "source": [
    "~K-means clustering\n",
    "number of clusters must be specified.\n",
    "implemented in sklearn(\"scikit-learn\")\n",
    "k-mrans remembers the mean of each cluster (the \"centroids\")\n",
    "\n",
    "from sklearn.cluster import KMeans\n",
    "model = KMeans(n_clusters=3)\n",
    "model.fit(samples) \n",
    "-->KMeans(algorithm='auto', ...)\n",
    "labels = model.predict(samples)\n",
    "print(labels) \n",
    "-->[0 0 1 1 0 1 2 1 0 1 ...]\n",
    "\n",
    "\n",
    "new_labels = model.predict(new_samples)\n",
    "\n",
    "import matplotlib.pyplot as plt\n",
    "xs = samples[:,0]\n",
    "ys = samples[:,2]\n",
    "plt.scatter(xs, ys, c=labels)\n",
    "plt.show()\n"
   ]
  },
  {
   "cell_type": "code",
   "execution_count": null,
   "metadata": {},
   "outputs": [],
   "source": [
    "~Evaluating a clustering~\n",
    "cross tabulation with pandas : clusters vs species\n",
    "    \n",
    "ct=pd.crosstab(df['labels'],df['species'])\n",
    "print(ct)\n",
    "\n",
    "~Measuring clustering quality~\n",
    "\n",
    "**inertia measures clustering quality (lower is better)**\n",
    "print(model.inertia_)\n",
    "-->78.9408414261\n",
    "\n",
    "\n"
   ]
  },
  {
   "cell_type": "code",
   "execution_count": null,
   "metadata": {},
   "outputs": [],
   "source": [
    "e.g.2\n",
    "# Create a KMeans model with 3 clusters: model\n",
    "model = KMeans(n_clusters=3)\n",
    "\n",
    "# Use fit_predict to fit model and obtain cluster labels: labels\n",
    "labels = model.fit_predict(samples)\n",
    "\n",
    "# Create a DataFrame with labels and varieties as columns: df\n",
    "df = pd.DataFrame({'labels': labels, 'varieties': varieties})\n",
    "\n",
    "# Create crosstab: ct\n",
    "ct = pd.crosstab(df[\"labels\"],df[\"varieties\"])\n",
    "\n",
    "# Display ct\n",
    "print(ct)\n",
    "\n",
    "-->\n",
    "\n",
    "<script.py> output:\n",
    "    varieties  Canadian wheat  Kama wheat  Rosa wheat\n",
    "    labels                                           \n",
    "    0                       0           1          60\n",
    "    1                      68           9           0\n",
    "    2                       2          60          10"
   ]
  },
  {
   "cell_type": "markdown",
   "metadata": {},
   "source": [
    "((StandardScaler : the difference is to transform the data  fit()/transform()\n",
    "from sklearn.preprocessing import StandardScaler\n",
    "is a \"preprocessing\" step\n",
    "**\"MaxAbsScaler\" and \"Normalizer\" are other examples**\n",
    "scaler=StandardScaler()\n",
    "scler.fit(samples)\n",
    "StandardScaler(copy=True,with_mean=True,with_std=True)\n",
    "samples_scaled=scaler.transform(samples)\n",
    "\n",
    "first StandardScaler then KMeans\n",
    "sklearn pipeline to combine multiple steps\n",
    "e.g.\n",
    "**from sklearn.preprocessing import StandardScaler\n",
    "**from sklearn.cluster import KMeans**\n",
    "scaler = StandardScaler()\n",
    "kmeans = KMeans(n_clusters=3)\n",
    "**from sklearn.pipeline import make_pipeline**\n",
    "pipeline = make_pipeline(scaler, kmeans)\n",
    "pipeline.fit(samples)\n",
    "labels = pipeline.predict(samples)\n",
    "\n",
    "  \n",
    "  df = pd.DataFrame({'labels': labels, 'varieties': varieties})\n",
    "  ct = pd.crosstab(df['labels'], df['varieties'])\n",
    "  print(ct)\n",
    "  varieties  Barbera  Barolo  Grignolino\n",
    "  labels                                \n",
    "  0              0      59           3 \n",
    "  1             48       0           3 \n",
    "  2             0       0           65\n",
    "~Feature standardization improves clustering\n",
    "  varieties  Barbera  Barolo  Grignolino \n",
    "  labels    \n",
    "  0            29      13          20 \n",
    "  1             0      46           1 \n",
    "  2             19       0          50 \n",
    "~Without feature standardization was very bad:\n",
    "\n",
    "  "
   ]
  },
  {
   "cell_type": "markdown",
   "metadata": {},
   "source": [
    "# Visualization with hierarchical clustering and t-SNE"
   ]
  },
  {
   "cell_type": "markdown",
   "metadata": {},
   "source": [
    "~ a huge part of your work as a data scientist will be the communication of your insights to other people.visualization is an excellent way. \n",
    "~ t-sne : creates 2d map of any data set.\n",
    "\n",
    "hierarchical clustering :\n",
    "~the dendrogram groups the countries into larger and larger clusters, and many of these \n",
    "~in steps; called \" agglomerative clustering\"\n",
    "\n",
    "**hierarchical clustering with SciPy**\n",
    "import matplotlib.pyplot as plt \n",
    "**from scipy.cluster.hierarchy import linkage, dendrogram**\n",
    "mergings = linkage(samples, method='complete')\n",
    "dendrogram(mergings,labels=country_names,leaf_rotation=90,leaf_font_size=6)\n",
    "plt.show()#\n",
    "\n",
    "\n",
    "cluster labels in hierarchical clustering\n",
    "~ not only a visualization tool!\n",
    "~ cluster labels at any intermediate stage can be recovered.\n",
    "\n",
    "-intermediate clustering & height on dendrogram\n",
    "\n",
    "distance between clusters: linkage method\n",
    "\n",
    "from scipy.cluster.hierarchy import linkage\n",
    "mergings = linkage(samples, method='complete')    complete method :the two clusters with the smallest maximum pairwise distance\n",
    "from scipy.cluster.hierarchy import fcluster      single method   :the two clusters with the smallest minimum pairwise distance\n",
    "labels = fcluster(mergings, 15, criterion='distance')\n",
    "print(labels)\n",
    "\n",
    "import pandas as pd\n",
    "pairs = pd.DataFrame({'labels': labels,'countries': country_names})\n",
    "print(pairs.sort_values('labels'))\n",
    "\n"
   ]
  },
  {
   "cell_type": "markdown",
   "metadata": {},
   "source": [
    "# t-SNE"
   ]
  },
  {
   "cell_type": "markdown",
   "metadata": {},
   "source": [
    "-t distributed stochastic neighbour embedding.\n",
    "- great for onspecting datasets.\n",
    "\n",
    "**t-SNE in sklearn**\n",
    "from sklearn.manifold import TSNE\n",
    "model=TSNE(learning_rate=100)\n",
    "transformed = model.fit_transform(samples)\n",
    "xs = transformed[:,0]\n",
    "ys = transformed[:,1]\n",
    "plt.scatter(xs, ys, c=species)\n",
    "plt.show()\n",
    "\n",
    "●Has a fit_transform() method\n",
    "●Simultaneously fits the model and transforms the data \n",
    "●Has no separate fit() or transform() methods \n",
    "●Can’t extend the map to include new data samples\n",
    "●Must start over each time!\n",
    "t-SNE learning rate\n",
    "●Choose learning rate for the dataset\n",
    "●Wrong choice: points bunch together\n",
    "●Try values between 50 and 200\n"
   ]
  },
  {
   "cell_type": "markdown",
   "metadata": {},
   "source": [
    "# PCA (Principal Component Analysis)"
   ]
  },
  {
   "cell_type": "code",
   "execution_count": null,
   "metadata": {},
   "outputs": [],
   "source": [
    "dimension reduction:\n",
    "    more efficient storage and computation in a compressed form.\n",
    "    1st step: decorrelation\n",
    "    2nd step: reduces dimension\n",
    "--> rotates data samples to ber aligned with axes\n",
    "--> shifts data samples so they have mean 0\n",
    "--> no information is lost\n",
    "\n",
    "\n",
    "\n",
    "    \n",
    "    "
   ]
  }
 ],
 "metadata": {
  "kernelspec": {
   "display_name": "Python 3",
   "language": "python",
   "name": "python3"
  },
  "language_info": {
   "codemirror_mode": {
    "name": "ipython",
    "version": 3
   },
   "file_extension": ".py",
   "mimetype": "text/x-python",
   "name": "python",
   "nbconvert_exporter": "python",
   "pygments_lexer": "ipython3",
   "version": "3.7.6"
  }
 },
 "nbformat": 4,
 "nbformat_minor": 4
}

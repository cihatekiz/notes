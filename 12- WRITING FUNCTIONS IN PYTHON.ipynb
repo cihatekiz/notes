{
 "cells": [
  {
   "cell_type": "markdown",
   "metadata": {},
   "source": [
    "# BEST PRACTICES"
   ]
  },
  {
   "cell_type": "markdown",
   "metadata": {},
   "source": [
    "**DOCSTRING**\n",
    "\n",
    "**google style :**\n",
    "    starts with a concise description of what the function does\n",
    "    args:\n",
    "        where you list each argument name,followed by its expected type in parentheses and what its role is in the function.\n",
    "    returns: \n",
    "        where  you list expected type or types of what gets returned\n",
    "    raises:\n",
    "    notes:\n",
    "**numpydoc format**\n",
    "\n",
    "\n",
    ".__doc__  --> to see the docstring.\n",
    "\n",
    "**import inspect\n",
    "print(inspect.getdoc(def_name))**\n",
    "\n",
    "an example: \n",
    "def count_letter(content, letter):\n",
    "  \"\"\"Count the number of times `letter` appears in `content`.\n",
    "  \n",
    "  Args:\n",
    "    content (str): The string to search.\n",
    "    letter (str): The letter to search for.\n",
    "  Returns:\n",
    "    int \n",
    "  Raises:\n",
    "     ValueError: If `letter` is not a one-character string.\n",
    "  \"\"\"\n",
    "   \n",
    "  if (not isinstance(letter, str)) or len(letter) != 1:\n",
    "    raise ValueError('`letter` must be a single character string.')\n",
    "  return len([char for char in content if char == letter])\n"
   ]
  },
  {
   "cell_type": "markdown",
   "metadata": {},
   "source": [
    "##DRY(DO NOT REPEAT YOURSELF), \"DO ONE THING\".\n",
    "Instead of one big function, we could have a more nimble function that just loads the data and a second one for plotting.\n",
    "\n",
    "~more flexible,more easily understood,simpler to test, simpler to debug,easier to change\n",
    "\n",
    "**refactoring**: is the process of improving code by changing it a little bit at a time."
   ]
  },
  {
   "cell_type": "markdown",
   "metadata": {},
   "source": [
    "e.g.\n",
    "def standardize(column):\n",
    "  \"\"\"Standardize the values in a column.\n",
    "\n",
    "  Args:\n",
    "    column (pandas Series): The data to standardize.\n",
    "\n",
    "  Returns:\n",
    "    pandas Series: the values as z-scores\n",
    "  \"\"\"\n",
    " \n",
    "  z_score = (column - column.mean()) / column.std()\n",
    "  return z_score\n"
   ]
  },
  {
   "cell_type": "markdown",
   "metadata": {},
   "source": [
    "## MEAN\n",
    "def mean(values):\n",
    "  \"\"\"Get the mean of a list of values\n",
    "\n",
    "  Args:\n",
    "    values (iterable of float): A list of numbers\n",
    "\n",
    "  Returns:\n",
    "    float\n",
    "  \"\"\"\n",
    "  \n",
    "  mean =sum(values) / len(values)\n",
    "  return mean\n"
   ]
  },
  {
   "cell_type": "markdown",
   "metadata": {},
   "source": [
    "## MEDIAN\n",
    "\n",
    "def median(values):\n",
    "  \"\"\"Get the median of a list of values\n",
    "\n",
    "  Args:\n",
    "    values (iterable of float): A list of numbers\n",
    "\n",
    "  Returns:\n",
    "    float\n",
    "  \"\"\"\n",
    "  \n",
    "  midpoint = int(len(values)/2)\n",
    "  if len(values)%2==0:\n",
    "    median = (values[midpoint-1]+values[midpoint])/2\n",
    "  else:\n",
    "      median=values[midpoint]\n",
    "   \n",
    "  return median\n",
    "\n"
   ]
  },
  {
   "cell_type": "markdown",
   "metadata": {},
   "source": [
    "# # CONTEXT MANAGER"
   ]
  },
  {
   "cell_type": "markdown",
   "metadata": {},
   "source": [
    "~Sets up a context   --> set up the tables with food and drink\n",
    "~runs your code      --> let you and your friends have a party\n",
    "~removes the context --> cleaned up and removed the tables"
   ]
  },
  {
   "cell_type": "markdown",
   "metadata": {},
   "source": [
    "with <context-manager> (<args>):\n",
    "with <context-manager> (<args>) as <variable-name>:\n",
    "    ~run your code here\n",
    "    ~this code is running \"inside the context\"\n",
    "    \n",
    "~this code runs after the context is removed\n",
    "\n",
    "    "
   ]
  },
  {
   "cell_type": "markdown",
   "metadata": {},
   "source": [
    "e.g.1\n",
    "with open('my_file.txt') as my_file:  \n",
    "text = my_file.read()  \n",
    "length = len(text)\n",
    "print('The file is {} characters long'.format(length))\n",
    "e.g.2\n",
    "~Time how long process_with_numpy(image) takes to run\n",
    "with timer():\n",
    "  print('Numpy version')\n",
    "  process_with_numpy(image)\n",
    "~Time how long process_with_pytorch(image) takes to run\n",
    "with timer():\n",
    "  print('Pytorch version')\n",
    "  process_with_pytorch(image)"
   ]
  },
  {
   "cell_type": "markdown",
   "metadata": {},
   "source": [
    "# HOW TO CREATE A CONTEXT MANAGER\n",
    "\n",
    "1- DEFINE A FUNCTION\n",
    "2- (opt) add any set up code your context needs\n",
    "3- yield keyword --> to signal to Python that this is a special kind of function\n",
    "4- (opt) add any teardown code your context needs that you need to clean up the context.\n",
    "5- Add the @contextlib.contextmanager decorator.\n",
    "\n",
    "\n",
    "e.g.1.\n",
    "@contextlib.contextmanager\n",
    "def my_context():\n",
    "~Add any set up code you need\n",
    "yield\n",
    "~Add any teardown code you need\n",
    "\n",
    "e.g.2\n",
    "@contextlib.contextmanager\n",
    "def database(url):\n",
    "    ~set up database connection  \n",
    "    db = postgres.connect(url)\n",
    "    yield db\n",
    "    ~tear down database connection  \n",
    "    db.disconnect()\n",
    "    url = 'http://datacamp.com/data'with database(url) as my_db:        \n",
    "    course_list = my_db.execute('SELECT * FROM courses'  )\n"
   ]
  },
  {
   "cell_type": "markdown",
   "metadata": {},
   "source": [
    "# ADVANCED TOPICS\n",
    "\n",
    "~NESTED CONTEXT\n",
    "e.g.\n",
    "defcopy(src, dst):\n",
    "\"\"\"Copy the contents of one file to another. \n",
    "Args:   \n",
    "    src (str): File name of the file to be copied.   \n",
    "    dst (str): Where to write the new file. \"\"\"\n",
    "    # Open both files\n",
    " with open(src) as f_src:\n",
    "    with open(dst, 'w') as f_dst:\n",
    "     ~Read and write each line, one at a time\n",
    "        for line in f_src:       \n",
    "            f_dst.write(line)\n",
    "\n",
    "~HANDLING ERRORS\n",
    "\n",
    "try:# code that might raise an error\n",
    "except:# do something about the error\n",
    "finally:# this code runs no matter what\n",
    "\n",
    "e.g.\n",
    "    defget_printer(ip):  \n",
    "    p = connect_to_printer(ip)\n",
    "    try:\n",
    "      yield\n",
    "    finally:    \n",
    "        p.disconnect()    \n",
    "        print('disconnected from printer')\n",
    "doc = {'text': 'This is my text.'}\n",
    "with get_printer('10.0.34.111') as printer:  \n",
    "    printer.print_page(doc['txt'])\n"
   ]
  },
  {
   "cell_type": "markdown",
   "metadata": {},
   "source": [
    "Open x Close\n",
    "Lock x Release\n",
    "Change x Reset\n",
    "Enter x Exit\n",
    "Start x Stop\n",
    "Setup x Teardown\n",
    "Connect x Disconnect"
   ]
  },
  {
   "cell_type": "markdown",
   "metadata": {},
   "source": [
    "# FUNCTIONS AS OBJECTS"
   ]
  },
  {
   "cell_type": "code",
   "execution_count": 2,
   "metadata": {},
   "outputs": [
    {
     "name": "stdout",
     "output_type": "stream",
     "text": [
      "I am printing with an element of a list\n"
     ]
    }
   ],
   "source": [
    "#functions are any other objects in Python.\n",
    "list_of_functions=[1,open,print]\n",
    "list_of_functions[2](\"I am printing with an element of a list\")\n"
   ]
  },
  {
   "cell_type": "markdown",
   "metadata": {},
   "source": [
    "# function to check whether a function has docstring or not"
   ]
  },
  {
   "cell_type": "markdown",
   "metadata": {},
   "source": [
    "def has_docstring(func):\n",
    "\"\"\"\n",
    "Check to see if the function  `func` has a docstring. \n",
    "Args:   \n",
    "    func (callable): A function. \n",
    "Returns:   \n",
    "    bool \"\"\"\n",
    "    return func.__doc__ isnotNone\n",
    "def no():\n",
    "    return 42\n",
    "def yes():\n",
    "\"\"\"\n",
    "Return:\n",
    "    the value 42 \n",
    "\"\"\"\n",
    "    return 42\n",
    "has_docstring(no)\n",
    "->False\n",
    "has_docstring(yes)\n",
    "->True"
   ]
  },
  {
   "cell_type": "markdown",
   "metadata": {},
   "source": [
    "# LOCAL--NONLOCAL--GLOBAL--BUILTIN"
   ]
  },
  {
   "cell_type": "code",
   "execution_count": 5,
   "metadata": {},
   "outputs": [
    {
     "name": "stdout",
     "output_type": "stream",
     "text": [
      "50\n",
      "30\n",
      "100\n",
      "30\n"
     ]
    }
   ],
   "source": [
    "\n",
    "x = 50\n",
    "\n",
    "def one():\n",
    "  x = 10\n",
    "\n",
    "def two():\n",
    "  global x\n",
    "  x = 30\n",
    "\n",
    "def three():\n",
    "  x = 100\n",
    "  print(x)\n",
    "\n",
    "for func in [one, two, three]:\n",
    "  func()\n",
    "  print(x)"
   ]
  },
  {
   "cell_type": "markdown",
   "metadata": {},
   "source": [
    "**CLOSURE** : is a tuple of variables that are no longer in scope, but that a function needs in order to run.\n",
    "Decorators use:\n",
    "Functions as objects\n",
    "Nested functions\n",
    "Nonlocal scope\n",
    "Closures"
   ]
  },
  {
   "cell_type": "markdown",
   "metadata": {},
   "source": [
    "# DECORATORS "
   ]
  },
  {
   "cell_type": "markdown",
   "metadata": {},
   "source": [
    "~decorator is a wrapper that you can place around a function that changes that function's behaviour.\n",
    "@"
   ]
  },
  {
   "cell_type": "markdown",
   "metadata": {},
   "source": [
    "## Decorator example\n"
   ]
  },
  {
   "cell_type": "code",
   "execution_count": 1,
   "metadata": {},
   "outputs": [
    {
     "data": {
      "text/plain": [
       "20"
      ]
     },
     "execution_count": 1,
     "metadata": {},
     "output_type": "execute_result"
    }
   ],
   "source": [
    "def double_args(func):\n",
    "    def wrapper(a, b):\n",
    "        return func(a * 2, b * 2)\n",
    "    return wrapper\n",
    "@double_args\n",
    "def multiply(a, b):\n",
    "    return a * b\n",
    "multiply(1, 5)\n"
   ]
  },
  {
   "cell_type": "markdown",
   "metadata": {},
   "source": [
    "# timer decorator :easy to determine where computational bottlenecks are"
   ]
  },
  {
   "cell_type": "markdown",
   "metadata": {},
   "source": [
    "import time \n",
    "def timer(func):\n",
    "    \"\"\" A decorator that prints how long a function took to run.\n",
    "    Args:\n",
    "      func(callable): the function being decorated.\n",
    "    Returns:\n",
    "      callable: the decorated function\n",
    "    \"\"\""
   ]
  },
  {
   "cell_type": "markdown",
   "metadata": {},
   "source": [
    "def timer(func):\n",
    "\"\"\"A decorator that prints how long a function took to run.\"\"\"\n",
    "~Define the wrapper function to return.\n",
    "    def wrapper(*args, **kwargs):\n",
    "~When wrapper() is called, get the current time.   \n",
    "        t_start = time.time()\n",
    "~Call the decorated function and store the result.   \n",
    "        result = func(*args, **kwargs)\n",
    "~Get the total time it took to run, and print it.   \n",
    "        t_total = time.time() - t_start   \n",
    "        print('{} took {}s'.format(func.__name__, t_total))\n",
    "        return result\n",
    "    return wrapper\n"
   ]
  },
  {
   "cell_type": "markdown",
   "metadata": {},
   "source": [
    "@timer\n",
    "def foo():\n",
    "    ~do some computation\n",
    "@timer\n",
    "def bar():\n",
    "    ~do some other computation\n",
    "@timer\n",
    "def baz():\n",
    "    ~do something else"
   ]
  },
  {
   "cell_type": "markdown",
   "metadata": {},
   "source": [
    "**from functools import wraps**\n",
    "def timer(func):\n",
    "    \"\"\"A decorator that prints how long a function took to run.\"\"\"\n",
    "    @wraps(func) #takes the function you are decorating as an argument.\n",
    "    def wrapper(*args, **kwargs):   \n",
    "        t_start = time.time()    \n",
    "        result = func(*args, **kwargs)\n",
    "        t_total = time.time() - t_start\n",
    "        print('{} took {}s'.format(func.__name__, t_total))\n",
    "        return result\n",
    "    return wrapper\n"
   ]
  },
  {
   "cell_type": "markdown",
   "metadata": {},
   "source": [
    "# Access to the original function\n"
   ]
  },
  {
   "cell_type": "markdown",
   "metadata": {},
   "source": [
    "sleep_n_seconds.__wrapped__"
   ]
  },
  {
   "cell_type": "markdown",
   "metadata": {},
   "source": [
    "# Run n times decorator"
   ]
  },
  {
   "cell_type": "markdown",
   "metadata": {},
   "source": [
    "def run_n_times(n):\n",
    "    \"\"\"Define and return a decorator\"\"\"\n",
    "    def decorator(func):\n",
    "        def wrapper(*args, **kwargs):\n",
    "            for i in range(n):        \n",
    "                func(*args, **kwargs)\n",
    "        return wrapper\n",
    "    return decorator\n",
    "run_three_times = run_n_times(3)\n",
    "@run_three_times\n",
    "def print_sum(a, b):  \n",
    "    print(a + b)\n",
    "@run_n_times(3)\n",
    "def print_sum(a, b):  \n",
    "    print(a + b)\n",
    "\n",
    "\n",
    "print = run_n_times(20)(print)"
   ]
  },
  {
   "cell_type": "code",
   "execution_count": 7,
   "metadata": {},
   "outputs": [
    {
     "name": "stdout",
     "output_type": "stream",
     "text": [
      "8\n",
      "8\n",
      "8\n"
     ]
    }
   ],
   "source": [
    "print_sum(3,5)"
   ]
  },
  {
   "cell_type": "markdown",
   "metadata": {},
   "source": []
  }
 ],
 "metadata": {
  "kernelspec": {
   "display_name": "Python 3",
   "language": "python",
   "name": "python3"
  },
  "language_info": {
   "codemirror_mode": {
    "name": "ipython",
    "version": 3
   },
   "file_extension": ".py",
   "mimetype": "text/x-python",
   "name": "python",
   "nbconvert_exporter": "python",
   "pygments_lexer": "ipython3",
   "version": "3.7.6"
  }
 },
 "nbformat": 4,
 "nbformat_minor": 4
}

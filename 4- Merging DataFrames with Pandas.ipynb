{
 "cells": [
  {
   "cell_type": "markdown",
   "metadata": {},
   "source": [
    "~ in this course :\n",
    "    *combine,or 'merge' multiple DataFrames\n",
    "    *perform database-style joins between DataFrames\n",
    "    *organize, reshape, and aggregate multiple datasets\n",
    "       prequisites: pivoting,melting,visualizing,more advanced math operations\n",
    "    "
   ]
  },
  {
   "cell_type": "markdown",
   "metadata": {},
   "source": [
    "~read_csv() has 50 optional calling parameters\n",
    "    ~pd.read_excel()\n",
    "    ~pd.read_html()\n",
    "    ~pd.read_json()\n"
   ]
  },
  {
   "cell_type": "markdown",
   "metadata": {},
   "source": [
    "# merging"
   ]
  },
  {
   "cell_type": "markdown",
   "metadata": {},
   "source": [
    "filenames=['csv_file1.csv','csv_file2.csv']\n",
    "dataframes=[]\n",
    "for f in filenames:\n",
    "    dataframes.append(pd.read_csv(f))\n",
    " ~OR~\n",
    "dataframes=[pd.read_csv(f) for f in filenames] \n",
    "    "
   ]
  },
  {
   "cell_type": "markdown",
   "metadata": {},
   "source": [
    "# using globe"
   ]
  },
  {
   "cell_type": "code",
   "execution_count": 1,
   "metadata": {},
   "outputs": [],
   "source": [
    "from glob import glob"
   ]
  },
  {
   "cell_type": "markdown",
   "metadata": {},
   "source": [
    "filenames=glob('salaries*.csv')\n",
    "dataframes=[pd.read_csv(f) for f in filenames] "
   ]
  },
  {
   "cell_type": "markdown",
   "metadata": {},
   "source": [
    "# reindexing dataframes"
   ]
  },
  {
   "cell_type": "markdown",
   "metadata": {},
   "source": [
    "~indexes == indices~  set of indices within many indexes\n",
    "\n",
    "~ index_col='col_name' to define which column become the index\n",
    "\n",
    "~.reindex(list)     ~ .reindex(dataframe.index)\n",
    "~.sortindex() "
   ]
  },
  {
   "cell_type": "markdown",
   "metadata": {},
   "source": [
    "# arithmetic with series"
   ]
  },
  {
   "cell_type": "markdown",
   "metadata": {},
   "source": [
    "weather=pd.read_csv('pittsburgh2013.csv',index_col='Date',parse_date=True)\n",
    "weather.loc['2013-7-1:'2013-7-7','PrecipitationIn']\n",
    "weather.loc['2013-7-1:'2013-7-7','PrecipitationIn']*2.54\n",
    "weather.loc['2013-7-1:'2013-7-7',['MI',']"
   ]
  },
  {
   "cell_type": "code",
   "execution_count": null,
   "metadata": {},
   "outputs": [],
   "source": []
  },
  {
   "cell_type": "markdown",
   "metadata": {},
   "source": [
    "# appending and concantenating"
   ]
  },
  {
   "cell_type": "markdown",
   "metadata": {},
   "source": [
    "s1.append(s2):Series & DataFrame method\n",
    "concat():pandas module function\n",
    "pd.concat([s1,s2,s3])\n",
    "east= northeast.append(south)\n",
    "new_east=northeast.append(south).reset_index(drop=True)\n",
    "east=pd.concat([northeast,south])\n",
    "new_east=pd.concat([northeast,south],ignore_index=True)\n"
   ]
  },
  {
   "cell_type": "markdown",
   "metadata": {},
   "source": [
    "#rain1314= pd.concat([rain2013,rain2014]),keys=[2013,2014],axis=0)\n",
    "#rain1314= pd.concat([rain2013,rain2014]),keys=[2013,2014],axis='columns'/1)\n",
    "rain1314.loc[2014]\n",
    ".pdconcat() with dict"
   ]
  },
  {
   "cell_type": "markdown",
   "metadata": {},
   "source": [
    "~outer & inner joints\n",
    "np.hstack([B,A])==np.concatenate(([B,A],axis=1) ~ they must have same number of rows\n",
    "np.vstack([A,C])==np.concatenate(([B,A],axis=0) ~ they must have the same number of columns\n",
    "~ outer joins : union of index sets(all labels, no repetition),fills with NaN\n",
    "~ inner joins : intersection of index sets(only common labels)\n",
    "  pd.concat([pop,unemp],axis=1,join='inner')\n",
    "\n",
    "\n"
   ]
  },
  {
   "cell_type": "markdown",
   "metadata": {},
   "source": [
    "# merging DataFrames with pandas"
   ]
  },
  {
   "cell_type": "markdown",
   "metadata": {},
   "source": [
    "~ pd.merge(population,cities)\n",
    "~ pd.merge(bronze,gold,on='NOC')\n",
    "~ pd.merge(bronze,gold,on=['NOC','Country'],suffixes=['bronze','gold'])\n",
    "~ pd.merge(counties,cities,left_on='CITY NAME',right_on= 'City')\n",
    "~ use the simplest tools that work\n",
    "~ df1.append(df2):stacking vertically\n",
    "~ pd.concat([df1,df2]): stacking many horizontally and vertically,simple inner/outer joins on Indexes\n",
    "~ df1.join(df2):inner/outer/left/right\n",
    "~pd.merge([df1,df2]): many joins on multiple columnsji\n",
    "\n"
   ]
  },
  {
   "cell_type": "markdown",
   "metadata": {},
   "source": [
    "~ordered merges\n",
    "~.merge_ordered() == it behaves like merge when the columns can be ordered\n",
    "~pd.merge_ordered(stocks,gdp,on='Date',fill_method='ffill')"
   ]
  },
  {
   "cell_type": "markdown",
   "metadata": {},
   "source": [
    "# MEDALS IN THE SUMMER OLYMPICS"
   ]
  },
  {
   "cell_type": "markdown",
   "metadata": {},
   "source": [
    "#df.pivot_table(values=\"column1\",index=\"color\")-->takes the mean value for each group\n",
    "#dogs.pivot_table(values=\"weight_kg\", index=\"color\", aggfunc=[np.mean, np.median])\n",
    "#dogs.pivot_table(values=\"weight_kg\", index=\"color\", columns=\"breed\",fill_value=0,margins=True) "
   ]
  },
  {
   "cell_type": "markdown",
   "metadata": {},
   "source": [
    "# reshaping & plotting"
   ]
  },
  {
   "cell_type": "code",
   "execution_count": null,
   "metadata": {},
   "outputs": [],
   "source": []
  }
 ],
 "metadata": {
  "kernelspec": {
   "display_name": "Python 3",
   "language": "python",
   "name": "python3"
  },
  "language_info": {
   "codemirror_mode": {
    "name": "ipython",
    "version": 3
   },
   "file_extension": ".py",
   "mimetype": "text/x-python",
   "name": "python",
   "nbconvert_exporter": "python",
   "pygments_lexer": "ipython3",
   "version": "3.7.6"
  }
 },
 "nbformat": 4,
 "nbformat_minor": 4
}

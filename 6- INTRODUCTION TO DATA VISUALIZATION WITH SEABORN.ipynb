{
 "cells": [
  {
   "cell_type": "markdown",
   "metadata": {},
   "source": [
    "# INTRODUCTION TO DATA VISUALIZATION WITH SEABORN"
   ]
  },
  {
   "cell_type": "markdown",
   "metadata": {},
   "source": [
    "~ Easy to use\n",
    "~ works well with pandas\n",
    "~ built on top of matplotlib\n",
    "~ seaborn works great with panda if only dataframe is tidy.\n",
    "import seaborn as sns\n",
    "import matplotlib.pyplot as plt\n",
    "sns.scatterplot(x=list1,y=list2)\n",
    "plt.show()\n",
    "\n",
    "sns.countplot(x=as)\n",
    "plt.show()"
   ]
  },
  {
   "cell_type": "markdown",
   "metadata": {},
   "source": [
    "# #using pandas with seaborn"
   ]
  },
  {
   "cell_type": "markdown",
   "metadata": {},
   "source": [
    "~sns.countplot(x=\"col2\",data=df)\n",
    "~ addin a third variable~\n",
    "tips=sns.load_dataset(\"tips\")\n",
    "sns.scatterplot(x=\"total_bill\",y=\"tip\",data=df,hue=\"col3\",hue_order=[\"yes\",\"no\"],palette=dic)\n",
    "hue_colors={\"yes\":\"black\",\"no\":\"red\"}"
   ]
  },
  {
   "cell_type": "markdown",
   "metadata": {},
   "source": [
    "# Introduction to relational plots and subplots\n"
   ]
  },
  {
   "cell_type": "markdown",
   "metadata": {},
   "source": [
    "~relplot() :enables you to visualize the relations\n",
    " - let us create subplots in a single figure\n",
    " sns.relplot(x=\"col1\",y=\"col2\",data=tips,kind=\"scatter\",col=\"smoker\"-->to get differentt scatters/row=\"smokers\",col_wrap=2,col_order=[\"\",\"\",\"\"],row_order=[\"\",\"\",\"\"],size=\"size\",hue=\"size\",style=\"smoker\")\n",
    " \n",
    " ~Introduction to line plots~\n",
    " kind=\"line\",markers=True,dashes=False,ci=\"sd\"-->spread of the distribution\n",
    " ~Count plots and bar plots~\n",
    " -comparisions between groups\n",
    " sns.catplot() --> kind=\"count\",order=category_order(a list),sym=\"\",whis=2.0,\n",
    "                       =\"bar\"\n",
    "                       =\"box\"\n",
    "                       =\"point\"\n",
    " ~point plots~\n",
    "  -join=False,kind=\"point\"\n",
    "  -estimator=median,capsize=0.2"
   ]
  },
  {
   "cell_type": "markdown",
   "metadata": {},
   "source": [
    "# Changing plot style and color"
   ]
  },
  {
   "cell_type": "markdown",
   "metadata": {},
   "source": [
    "~reason why you may want to change\n",
    " -personal preference\n",
    " -improve readability\n",
    " -guidance\n",
    "~sns.set_style(\"whitegird\",\"ticks\",\"dark\",\"darkgrid\") -->color of the background\n",
    "~sns.set_palette(\"RdBu\",\"PRGn\",\"RdBu_r\",\"PRGn_r\")-->diverging color of the main elements of the plot\n",
    "~sns.set_palette(\"Greys\",\"Blues\",\"PuRd\",\"GnBu\")-->diverging color of the main elements of the plot\n",
    "~sns.set_palette(custom_palette_list)-->diverging color of the main elements of the plot\n",
    "~sns.set_context(\"paper\",\"notebook\",\"talk\",\"poster\")-->smallest to largest\n",
    "---ADDING TITLES AND LABELS---\n",
    "  - FacetGrid vs.  AxesSubplot objects-\n",
    "g=sns.catplot(x=\"col1\",y=\"col2\",data=df,kind=\"box\")\n",
    "g.fig.suptitle(\"New Title\",y=1.03)\n",
    "-AXESSUBPLOT-\n",
    "g.set_title(\"New Title\",y=1.03)\n",
    "g.set_title(\"this is {col_name}\")\n",
    "\n",
    "~g.set(xlabel=\"\",ylabel=\"\") --> works for both\n",
    "__rotating__ --> plt.xticks(rotation=90)\n",
    "\n",
    "~FACEGRID = relplot(),catplot()   g.fig.suptitle()\n",
    "~AxesSubplot= scatterplot(),countplot(),  g.set_title()\n",
    "\n"
   ]
  },
  {
   "cell_type": "markdown",
   "metadata": {},
   "source": [
    "# Regression Plots in Seaborn"
   ]
  },
  {
   "cell_type": "markdown",
   "metadata": {},
   "source": [
    "distplot == high level histogram in seaborn#   ( not regression)\n",
    "\n",
    "regplot --> to generate a regression line\n",
    "sns.regplot(x=\"col1\",y=\"col2\",data=df)\n",
    "regplot= lsnsow level  ,  lmplot= high plot \n",
    "sns.set_style('style')\n",
    "sns.despine(left=True)\n",
    "sns.set(color_codes=True)  color='g'\n",
    "for p in sns.palettes.SEABORN_PALETTES:\n",
    "    sns.set_palette(p)\n",
    "    sns.distplot(df['Tuition'])\n",
    "~sns.palplot() --> to display a palette\n",
    "~sns.color_palette() --> tp return the current palette.\n",
    "~fig, (ax0, ax1) = plt.subplots(\n",
    "nrows=1,ncols=2, sharey=True, figsize=(7,4))\n",
    "sns.distplot(df['Tuition'], ax=ax0)\n",
    "sns.distplot(df.query(\n",
    "'State == \"MN\"')['Tuition'], ax=ax1)\n",
    "ax1.set(xlabel=\"Tuition (MN)\", xlim=(0, 70000))\n",
    "ax1.axvline(x=20000, label='My Budget', linestyle='--')\n",
    "ax1.legend()\n",
    "\n",
    "~sns.residplot() --> to evaluate the fit of a model.\n",
    "  order= 1,2,3 --> for polinomal \n",
    "~x_bins=1,2,3 to divide the data into discrete bins.\n",
    "~x_estimator= np.mean to highlight the trends.\n",
    "\n",
    "\n",
    "~heatmap() --> to\n",
    "~crosstab() --> to manipulate the data\n",
    "\n",
    "pd.crosstab(df[\"mnth\"],df[\"weekday\"],values=df[\"col1\"],aggfunc='mean').round(0)\n",
    "\n",
    "sns.heatmap(df1,annot=True,fmt=\"d\",cmap=\"color syntax\",cbar= False,linewidths=.5,center=df_crosstab.loc[9,6])\n",
    "\n",
    "~sns.heatmap(df.corr())\n",
    "\n",
    "~FACETGRID~\n",
    "g= sns.FacetGrid(df, col=\"HIGHDEG\")\n",
    "g.map(sns.boxplot.'Tuition', order=['1','2','3','4']).\n",
    "g.map(plt.scatter,\"col1\",\"col2\")\n",
    "\n",
    "~factorplot() --> simpler way to use a FaceGrid for categorical data\n",
    "                  combines the facetting and mapping process into function.\n",
    "~sns.factorplot(x=\"col12,data=df,col=\"HIGHDEG\",kind='box')\n",
    "\n",
    "~sns.lmplot(fit_reg=False)\n",
    "\n",
    "~PairGrid~\n",
    "g=sns.PairGrid(df,vars=[\"col1\",\"col2\"])\n",
    "g=g.map(plt.scatter)\n",
    "\n",
    "g=g.map_diag(plt.hist) --> to look at the main diagonal\n",
    "g=g.map_offdiag(plt.scatter) --> to look at others\n",
    " ~ pairplot()\n",
    " \n",
    " \n",
    "   JointGrid ~ joinplot()\n",
    "~  g = sns.JointGrid(data=df, x=\"Tuition\",y=\"ADM_RATE_ALL\")\n",
    "g = g.plot_joint(sns.kdeplot)\n",
    "g = g.plot_marginals(sns.kdeplot, shade=True)\n",
    "g = g.annotate(stats.pearsonr)\n",
    "\n",
    "sns.jointplot(data=df, x=\"Tuition\",y=\"ADM_RATE_ALL\", kind='hex')\n",
    "\n",
    "g = (sns.jointplot(x=\"Tuition\",y=\"ADM_RATE_ALL\", kind='scatter',xlim=(0, 25000),marginal_kws=dict(bins=15,rug=True),\n",
    "data=df.query('UG < 2500 &Ownership ==\"Public\"')).plot_joint(sns.kdeplot))\n",
    "\n",
    "sns.lmplot(x=\"pricepercent\", y=\"winpercent\", hue=\"chocolate\", data=candy_data)\n",
    "\n",
    "\n",
    "\n",
    " \n",
    "\n",
    "\n",
    "\n",
    "\n",
    "\n",
    "\n",
    "\n",
    "\n"
   ]
  },
  {
   "cell_type": "code",
   "execution_count": null,
   "metadata": {},
   "outputs": [],
   "source": []
  }
 ],
 "metadata": {
  "kernelspec": {
   "display_name": "Python 3",
   "language": "python",
   "name": "python3"
  },
  "language_info": {
   "codemirror_mode": {
    "name": "ipython",
    "version": 3
   },
   "file_extension": ".py",
   "mimetype": "text/x-python",
   "name": "python",
   "nbconvert_exporter": "python",
   "pygments_lexer": "ipython3",
   "version": "3.7.6"
  }
 },
 "nbformat": 4,
 "nbformat_minor": 4
}

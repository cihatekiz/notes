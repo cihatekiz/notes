{
 "cells": [
  {
   "cell_type": "markdown",
   "metadata": {},
   "source": [
    "# scope and user defined functions"
   ]
  },
  {
   "cell_type": "markdown",
   "metadata": {},
   "source": [
    "~globe : defined in the main body of a script \n",
    "~local : defined inside a function\n",
    "~built-in-scope : names in the pre-defined built ins module  -- print,sum ---\n"
   ]
  },
  {
   "cell_type": "markdown",
   "metadata": {},
   "source": [
    "global\n",
    "~NESTED FUNC~\n",
    "def outer(x1,x2,x3):\n",
    "    \"\"\"returns the remainder plus 5 of three values\"\"\"\n",
    "    x= ...\n",
    "    \n",
    "    def inner(x):\n",
    "        \"\"\"\n",
    "        returns the remainder plus 5 of a value\n",
    "        \"\"\"\n",
    "        return x%2 +5\n",
    "        \n",
    "    return (inner(x1),inner(x2),inner(x3))\n",
    "        \n",
    "\n"
   ]
  },
  {
   "cell_type": "markdown",
   "metadata": {},
   "source": [
    "-default adn flexible arguments~\n",
    "def add_all(*args): **kwargs\n",
    "    sum_all=0\n",
    "    \n",
    "    for num in args:                 for key,value in kwargs.items():\n",
    "        sum_all+=num                      print(key + \\\": \\\"+ value)\n",
    "        \n",
    "    return sum_all    "
   ]
  },
  {
   "cell_type": "markdown",
   "metadata": {},
   "source": [
    "# Lambda Functions"
   ]
  },
  {
   "cell_type": "markdown",
   "metadata": {},
   "source": [
    "raise_to_power= lambda x,y :x**y\n",
    "raise_to_power(2,3)\n",
    "map(func,seq)\n",
    "nums=[48,6,9,21,1]\n",
    "square_all=map(lambda num: num *2,nums)\n",
    "filter(lambda x: len(x)>6 , fellowship)"
   ]
  },
  {
   "cell_type": "markdown",
   "metadata": {},
   "source": [
    "# ERROR HANDLING"
   ]
  },
  {
   "cell_type": "markdown",
   "metadata": {},
   "source": [
    "try:\n",
    "except  asd :\n",
    "except TypeError:\n",
    "    do sth\n",
    "\n",
    "if we want our func to give errors for specific results:\n",
    "    if sth:\n",
    "        ~raise ValueError"
   ]
  },
  {
   "cell_type": "markdown",
   "metadata": {},
   "source": [
    "# Using iterators in PythonLand\n"
   ]
  },
  {
   "cell_type": "markdown",
   "metadata": {},
   "source": [
    "~it=iter()\n",
    "~next(it)\n",
    "\n",
    "print(*it) -->to unpack\n",
    "~loading data in chunks\n",
    "result=[]\n",
    "chunksize=1000\n"
   ]
  },
  {
   "cell_type": "markdown",
   "metadata": {},
   "source": [
    "# List comprehensions and generators"
   ]
  },
  {
   "cell_type": "markdown",
   "metadata": {},
   "source": [
    "new_list=[num +1 for num in list]\n",
    "new_list=\n",
    "5*5 matrix ===> matrix = [[col for col in range(5)] for row in range(5)]\n",
    "\n",
    "[num ** 2 for num in range(10) if num % 2 == 0]\n",
    "\n",
    "[num ** 2 if num % 2 == 0 else 0 for num in range(10)]\n",
    "\n",
    "dict==> pos_neg = {num: -num for num in range(9)}\n",
    "\n",
    "--Introduction to generator expressions--\n",
    "    list comprehension --> returns a list\n",
    "    generators    ---> returns a generator object\n",
    "    both can be iterated over\n",
    "    \n",
    "~ result= (num for num in range(6))\n",
    "    print(next(result))\n",
    "    for value in result:\n",
    "        print(value)\n",
    "~conditional in generator expressions:\n",
    "    even_nums=(num for num in range(10) if num%2 ==0)\n",
    "    -defined like a regular function\n",
    "    -generates a value with yield keyword\n",
    "def num_sequence(n):\n",
    "    i=0\n",
    "    while i <n :\n",
    "        yield i \n",
    "               i+=1\n",
    "               \n",
    "               \n",
    " -TO SUM UP -\n",
    "       list comprehensions : [output expression for iterator variable in iterable]\n",
    "       advanced list comprehensions: [output expression+conditional on output for iterator variable in iterable + conditional on iterable]\n",
    "    \n",
    "Using Python generators for streaming data\n",
    "~    \n",
    "    \n",
    "    \n",
    "    \n"
   ]
  },
  {
   "cell_type": "markdown",
   "metadata": {},
   "source": [
    "\n",
    "\n",
    "\n",
    "\n",
    "\n",
    "\n",
    "\n",
    "\n"
   ]
  },
  {
   "cell_type": "markdown",
   "metadata": {},
   "source": [
    " "
   ]
  }
 ],
 "metadata": {
  "kernelspec": {
   "display_name": "Python 3",
   "language": "python",
   "name": "python3"
  },
  "language_info": {
   "codemirror_mode": {
    "name": "ipython",
    "version": 3
   },
   "file_extension": ".py",
   "mimetype": "text/x-python",
   "name": "python",
   "nbconvert_exporter": "python",
   "pygments_lexer": "ipython3",
   "version": "3.7.6"
  }
 },
 "nbformat": 4,
 "nbformat_minor": 4
}
